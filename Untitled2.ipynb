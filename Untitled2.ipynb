{
 "cells": [
  {
   "cell_type": "code",
   "execution_count": 1,
   "id": "20eea39d-e2fb-47be-924f-974562d2c130",
   "metadata": {},
   "outputs": [
    {
     "name": "stderr",
     "output_type": "stream",
     "text": [
      "Failed to find the pandas get_adjustment() function to patch\n",
      "Failed to patch pandas - PandasTools will have limited functionality\n"
     ]
    }
   ],
   "source": [
    "# PyPept modules\n",
    "from pyPept.sequence import Sequence\n",
    "from pyPept.sequence import correct_pdb_atoms\n",
    "from pyPept.molecule import Molecule\n",
    "from pyPept.converter import Converter\n",
    "from pyPept.conformer import Conformer\n",
    "from pyPept.conformer import SecStructPredictor\n",
    "\n",
    "# RDKit modules\n",
    "from rdkit import Chem\n",
    "from rdkit.Chem import Draw"
   ]
  },
  {
   "cell_type": "code",
   "execution_count": 2,
   "id": "c9544ce3-324c-48d4-a372-30792dd4728b",
   "metadata": {},
   "outputs": [
    {
     "name": "stderr",
     "output_type": "stream",
     "text": [
      "Failed to patch pandas - unable to change molecule rendering\n",
      "C:\\Users\\elabo\\anaconda3\\envs\\JupyterLab\\Lib\\site-packages\\pyPept\\sequence.py:536: FutureWarning: ChainedAssignmentError: behaviour will change in pandas 3.0!\n",
      "You are setting values through chained assignment. Currently this works in certain cases, but when using Copy-on-Write (which will become the default behaviour in pandas 3.0) this will never work to update the original DataFrame or Series, because the intermediate object on which we are setting values will behave as a copy.\n",
      "A typical example is when you are setting values in a column of a DataFrame, like:\n",
      "\n",
      "df[\"col\"][row_indexer] = value\n",
      "\n",
      "Use `df.loc[row_indexer, \"col\"] = values` instead, to perform the assignment in a single step and ensure this keeps updating the original `df`.\n",
      "\n",
      "See the caveats in the documentation: https://pandas.pydata.org/pandas-docs/stable/user_guide/indexing.html#returning-a-view-versus-a-copy\n",
      "\n",
      "  df_group[group][idx] = updated_change\n",
      "Failed to patch pandas - unable to change molecule rendering\n"
     ]
    }
   ],
   "source": [
    "# Start the Sequence object\n",
    "biln = \"ac-D-T-H-F-E-I-A-am\"\n",
    "seq = Sequence(biln)\n",
    "# Correct atom names in the sequence object\n",
    "seq = correct_pdb_atoms(seq)"
   ]
  },
  {
   "cell_type": "code",
   "execution_count": 4,
   "id": "0fcd8668-2a26-491c-b60b-1b7f010a2d40",
   "metadata": {},
   "outputs": [
    {
     "name": "stderr",
     "output_type": "stream",
     "text": [
      "Failed to patch pandas - unable to change molecule rendering\n",
      "Failed to patch pandas - unable to change molecule rendering\n"
     ]
    }
   ],
   "source": [
    "# Call the converter to change from HELM to BILN\n",
    "from pyPept.converter import Converter\n",
    "\n",
    "helm = \"PEPTIDE1{[ac].D.T.H.F.E.I.A.[am]}$$$$V2.0\"\n",
    "b = Converter(helm=helm)\n",
    "biln = b.get_biln()\n",
    "seq = Sequence(biln)\n",
    "# Correct atom names in the sequence object\n",
    "seq = correct_pdb_atoms(seq)"
   ]
  },
  {
   "cell_type": "code",
   "execution_count": 5,
   "id": "64960711-9b6d-4c4b-aa51-decc9bece4e5",
   "metadata": {},
   "outputs": [],
   "source": [
    "# Loop wit the included monomers\n",
    "mm_list = seq.s_monomers\n",
    "for i, monomer in enumerate(mm_list):\n",
    "    mon = monomer['m_romol']"
   ]
  },
  {
   "cell_type": "code",
   "execution_count": 6,
   "id": "f28004cb-750e-4b4c-9134-d6464e4bbaab",
   "metadata": {},
   "outputs": [
    {
     "name": "stdout",
     "output_type": "stream",
     "text": [
      "The SMILES of the peptide is: CC[C@H](C)[C@H](NC(=O)[C@H](CCC(=O)O)NC(=O)[C@H](Cc1ccccc1)NC(=O)[C@H](Cc1c[nH]cn1)NC(=O)[C@@H](NC(=O)[C@H](CC(=O)O)NC(C)=O)[C@@H](C)O)C(=O)N[C@@H](C)C(N)=O\n"
     ]
    }
   ],
   "source": [
    "# Generate the RDKit object\n",
    "mol = Molecule(seq)\n",
    "romol = mol.get_molecule(fmt='ROMol')\n",
    "print(\"The SMILES of the peptide is: {}\".format(Chem.MolToSmiles(romol)))\n",
    "Draw.MolToFile(romol, 'peptide.png', size=(1200, 1200))"
   ]
  },
  {
   "cell_type": "code",
   "execution_count": 7,
   "id": "406158d3-ee1b-434a-b474-67e93222953e",
   "metadata": {},
   "outputs": [
    {
     "name": "stderr",
     "output_type": "stream",
     "text": [
      "Failed to patch pandas - unable to change molecule rendering\n"
     ]
    },
    {
     "name": "stdout",
     "output_type": "stream",
     "text": [
      "Predicted Secondary Structure: -TS---- for main chain: DTHFEIA\n"
     ]
    }
   ],
   "source": [
    "# Create the peptide conformer with corrected atom names and secondary structure\n",
    "# Obtain peptide main chain to predict the secondary structure\n",
    "fasta = Conformer.get_peptide(biln)\n",
    "secstruct = SecStructPredictor.predict_active_ss(fasta)\n",
    "# Generate the conformer\n",
    "romol = Conformer.generate_conformer(romol, secstruct, generate_pdb=True)"
   ]
  },
  {
   "cell_type": "code",
   "execution_count": null,
   "id": "28c6f7ca-8f91-4c91-b50c-0fdb40c639a8",
   "metadata": {},
   "outputs": [],
   "source": []
  }
 ],
 "metadata": {
  "kernelspec": {
   "display_name": "Python 3 (ipykernel)",
   "language": "python",
   "name": "python3"
  },
  "language_info": {
   "codemirror_mode": {
    "name": "ipython",
    "version": 3
   },
   "file_extension": ".py",
   "mimetype": "text/x-python",
   "name": "python",
   "nbconvert_exporter": "python",
   "pygments_lexer": "ipython3",
   "version": "3.12.2"
  }
 },
 "nbformat": 4,
 "nbformat_minor": 5
}
