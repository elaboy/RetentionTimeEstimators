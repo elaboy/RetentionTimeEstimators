{
 "cells": [
  {
   "cell_type": "code",
   "execution_count": 1,
   "id": "89071278-1897-4feb-a8a2-c775b43eed71",
   "metadata": {},
   "outputs": [],
   "source": [
    "%load_ext autoreload\n",
    "%autoreload 2"
   ]
  },
  {
   "cell_type": "code",
   "execution_count": 4,
   "id": "009e7355-6130-4e8d-b11e-9a0779e128ad",
   "metadata": {},
   "outputs": [],
   "source": [
    "import sys\n",
    "import os\n",
    "from src import *"
   ]
  },
  {
   "cell_type": "code",
   "execution_count": 10,
   "id": "cc883c93-b5db-48b4-9a6e-61caf58dd46b",
   "metadata": {
    "scrolled": true
   },
   "outputs": [],
   "source": [
    "vocab = tokenize.readVocabulary(\"vocab.csv\")\n",
    "data = tokenize.readData(\"/mnt/c/Users/elabo/Documents/CalibratorTestingMultipleFiles.csv\")"
   ]
  },
  {
   "cell_type": "code",
   "execution_count": 12,
   "id": "5d5f749d-27af-4129-8255-6845de8fe57b",
   "metadata": {},
   "outputs": [
    {
     "name": "stderr",
     "output_type": "stream",
     "text": [
      "/mnt/c/Users/elabo/Documents/GitHub/RetentionTimeEstimators/src/tokenize.py:23: FutureWarning: Series.__getitem__ treating keys as positions is deprecated. In a future version, integer keys will always be treated as labels (consistent with DataFrame behavior). To access a value by position, use `ser.iloc[pos]`\n",
      "  sequence = str(row[0])\n",
      "/mnt/c/Users/elabo/Documents/GitHub/RetentionTimeEstimators/src/tokenize.py:31: FutureWarning: Series.__getitem__ treating keys as positions is deprecated. In a future version, integer keys will always be treated as labels (consistent with DataFrame behavior). To access a value by position, use `ser.iloc[pos]`\n",
      "  preTokens.append((sequence, row[1]))\n",
      "/mnt/c/Users/elabo/Documents/GitHub/RetentionTimeEstimators/src/tokenize.py:29: FutureWarning: Series.__getitem__ treating keys as positions is deprecated. In a future version, integer keys will always be treated as labels (consistent with DataFrame behavior). To access a value by position, use `ser.iloc[pos]`\n",
      "  preTokens.append((removedColon, row[1]))\n"
     ]
    }
   ],
   "source": [
    "preTokens = tokenize.getPreTokens(data)"
   ]
  },
  {
   "cell_type": "code",
   "execution_count": 30,
   "id": "f53433ec-7176-4846-b8ed-43ffec7d2876",
   "metadata": {},
   "outputs": [],
   "source": [
    "tokens = tokenize.tokenizePreTokens(preTokens, vocab, 50, tokenize.TokenFormat.TwoDimensional)"
   ]
  },
  {
   "cell_type": "code",
   "execution_count": 32,
   "id": "02aaa834-dc9f-4240-9196-cfd740052b9c",
   "metadata": {},
   "outputs": [
    {
     "data": {
      "text/plain": [
       "(array([[ 6, 14, 10, 16, 19,  7, 14,  9,  0,  0,  0,  0,  0,  0,  0,  0,\n",
       "          0,  0,  0,  0,  0,  0,  0,  0,  0,  0,  0,  0,  0,  0,  0,  0,\n",
       "          0,  0,  0,  0,  0,  0,  0,  0,  0,  0,  0,  0,  0,  0,  0,  0,\n",
       "          0,  0],\n",
       "        [ 0,  0,  0,  0,  0,  0,  0,  0,  0,  0,  0,  0,  0,  0,  0,  0,\n",
       "          0,  0,  0,  0,  0,  0,  0,  0,  0,  0,  0,  0,  0,  0,  0,  0,\n",
       "          0,  0,  0,  0,  0,  0,  0,  0,  0,  0,  0,  0,  0,  0,  0,  0,\n",
       "          0,  0]]),\n",
       " 0.0854878498077924)"
      ]
     },
     "execution_count": 32,
     "metadata": {},
     "output_type": "execute_result"
    }
   ],
   "source": [
    "tokens[10001]"
   ]
  },
  {
   "cell_type": "code",
   "execution_count": null,
   "id": "7f02bc6a-a007-4390-a060-37d5f7f856f8",
   "metadata": {},
   "outputs": [],
   "source": []
  }
 ],
 "metadata": {
  "kernelspec": {
   "display_name": "Python 3 (ipykernel)",
   "language": "python",
   "name": "python3"
  },
  "language_info": {
   "codemirror_mode": {
    "name": "ipython",
    "version": 3
   },
   "file_extension": ".py",
   "mimetype": "text/x-python",
   "name": "python",
   "nbconvert_exporter": "python",
   "pygments_lexer": "ipython3",
   "version": "3.8.19"
  }
 },
 "nbformat": 4,
 "nbformat_minor": 5
}
