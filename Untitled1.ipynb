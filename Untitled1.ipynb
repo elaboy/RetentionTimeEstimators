{
 "cells": [
  {
   "cell_type": "code",
   "execution_count": 1,
   "id": "0ab594bf-377f-42e6-8536-63563f56d8f0",
   "metadata": {},
   "outputs": [],
   "source": [
    "import dask.dataframe as dd\n",
    "\n",
    "import matplotlib.pyplot as plt"
   ]
  },
  {
   "cell_type": "code",
   "execution_count": 2,
   "id": "902ce0f7-15ca-4b52-ac82-e432ae5f31b5",
   "metadata": {},
   "outputs": [],
   "source": [
    "df = dd.read_csv(r\"/mnt/f/RetentionTimeProject/OtherPeptideResultsForTraining/PXD005573/RFig1HeLa11ppm_Report_sorted.csv\")\n",
    "a549_df = dd.read_csv(r\"/mnt/f/RetentionTimeProject/MannPeptideResults/A549_AllPeptides_sorted.csv\")\n",
    "gamg_df = dd.read_csv(r\"/mnt/f/RetentionTimeProject/MannPeptideResults/GAMG_AllPeptides_sorted.csv\")\n",
    "hek293_df = dd.read_csv(r\"/mnt/f/RetentionTimeProject/MannPeptideResults/HEK293_AllPeptides_sorted.csv\")\n",
    "hela_df = dd.read_csv(r\"/mnt/f/RetentionTimeProject/MannPeptideResults/Hela_AllPeptides_sorted.csv\")\n",
    "hepG2a_df = dd.read_csv(r\"/mnt/f/RetentionTimeProject/MannPeptideResults/HepG2AllPeptides_sorted.csv\")\n",
    "jurkat_df = dd.read_csv(r\"/mnt/f/RetentionTimeProject/MannPeptideResults/Jurkat_AllPeptides_sorted.csv\")\n",
    "k562_df = dd.read_csv(r\"/mnt/f/RetentionTimeProject/MannPeptideResults/K562_AllPeptides_sorted.csv\")\n",
    "lanCap_df = dd.read_csv(r\"/mnt/f/RetentionTimeProject/MannPeptideResults/LanCap_AllPeptides_sorted.csv\")\n",
    "mcf7_df = dd.read_csv(r\"/mnt/f/RetentionTimeProject/MannPeptideResults/MCF7_AllPeptides_sorted.csv\")\n",
    "rko_df = dd.read_csv(r\"/mnt/f/RetentionTimeProject/MannPeptideResults/RKO_AllPeptides_sorted.csv\")\n",
    "u2os_df = dd.read_csv(r\"/mnt/f/RetentionTimeProject/MannPeptideResults/U2OS_AllPeptides_sorted.csv\")\n"
   ]
  },
  {
   "cell_type": "code",
   "execution_count": 3,
   "id": "3e9b5e30-61b2-4992-aef5-4c05930c417f",
   "metadata": {},
   "outputs": [],
   "source": [
    "dataframes = [df, a549_df, gamg_df, hek293_df, hela_df, hepG2a_df, jurkat_df, k562_df, lanCap_df, mcf7_df, rko_df, u2os_df]\n",
    "\n",
    "overlap = df\n",
    "\n",
    "for index, i in enumerate(dataframes):\n",
    "    overlap = overlap.merge(i.compute()[[\"Base Sequence\", \"Scan Retention Time\"]], on=\"Base Sequence\",  suffixes = (str(index-1),str(index)))\n",
    "    if index == 5: \n",
    "        break"
   ]
  },
  {
   "cell_type": "code",
   "execution_count": null,
   "id": "30268e19-24a8-4206-b56c-6565a9a2e507",
   "metadata": {},
   "outputs": [],
   "source": [
    "overlap.compute()"
   ]
  },
  {
   "cell_type": "code",
   "execution_count": 5,
   "id": "80578904-cc9e-4475-9aae-d1b1404a084a",
   "metadata": {},
   "outputs": [
    {
     "data": {
      "text/html": [
       "<div>\n",
       "<style scoped>\n",
       "    .dataframe tbody tr th:only-of-type {\n",
       "        vertical-align: middle;\n",
       "    }\n",
       "\n",
       "    .dataframe tbody tr th {\n",
       "        vertical-align: top;\n",
       "    }\n",
       "\n",
       "    .dataframe thead th {\n",
       "        text-align: right;\n",
       "    }\n",
       "</style>\n",
       "<table border=\"1\" class=\"dataframe\">\n",
       "  <thead>\n",
       "    <tr style=\"text-align: right;\">\n",
       "      <th></th>\n",
       "      <th>Unnamed: 0</th>\n",
       "      <th>Base Sequence</th>\n",
       "      <th>Scan Retention Time</th>\n",
       "    </tr>\n",
       "  </thead>\n",
       "  <tbody>\n",
       "    <tr>\n",
       "      <th>0</th>\n",
       "      <td>0</td>\n",
       "      <td>AASGEAKPK</td>\n",
       "      <td>2.902061</td>\n",
       "    </tr>\n",
       "    <tr>\n",
       "      <th>1</th>\n",
       "      <td>1</td>\n",
       "      <td>KAAGGATPK</td>\n",
       "      <td>3.255435</td>\n",
       "    </tr>\n",
       "    <tr>\n",
       "      <th>2</th>\n",
       "      <td>2</td>\n",
       "      <td>AHGDHMASSR</td>\n",
       "      <td>4.157402</td>\n",
       "    </tr>\n",
       "    <tr>\n",
       "      <th>3</th>\n",
       "      <td>3</td>\n",
       "      <td>KPAAAAGAK</td>\n",
       "      <td>4.180807</td>\n",
       "    </tr>\n",
       "    <tr>\n",
       "      <th>4</th>\n",
       "      <td>4</td>\n",
       "      <td>KNHEEEVK</td>\n",
       "      <td>4.372270</td>\n",
       "    </tr>\n",
       "    <tr>\n",
       "      <th>...</th>\n",
       "      <td>...</td>\n",
       "      <td>...</td>\n",
       "      <td>...</td>\n",
       "    </tr>\n",
       "    <tr>\n",
       "      <th>209443</th>\n",
       "      <td>209443</td>\n",
       "      <td>FLDALELSQSPMLLELMTEVLCR</td>\n",
       "      <td>129.377441</td>\n",
       "    </tr>\n",
       "    <tr>\n",
       "      <th>209444</th>\n",
       "      <td>209444</td>\n",
       "      <td>DLVVLLFETALLSSGFSLEDPQTHSNR</td>\n",
       "      <td>129.437515</td>\n",
       "    </tr>\n",
       "    <tr>\n",
       "      <th>209445</th>\n",
       "      <td>209445</td>\n",
       "      <td>VQGPELISLVELILAEAETR</td>\n",
       "      <td>129.572372</td>\n",
       "    </tr>\n",
       "    <tr>\n",
       "      <th>209446</th>\n",
       "      <td>209446</td>\n",
       "      <td>TAFDEAIAELDTLSEESYKDSTLIMQLLR</td>\n",
       "      <td>129.604309</td>\n",
       "    </tr>\n",
       "    <tr>\n",
       "      <th>209447</th>\n",
       "      <td>209447</td>\n",
       "      <td>DINLASFIEQVAVSMT</td>\n",
       "      <td>129.726273</td>\n",
       "    </tr>\n",
       "  </tbody>\n",
       "</table>\n",
       "<p>209448 rows × 3 columns</p>\n",
       "</div>"
      ],
      "text/plain": [
       "        Unnamed: 0                  Base Sequence  Scan Retention Time\n",
       "0                0                      AASGEAKPK             2.902061\n",
       "1                1                      KAAGGATPK             3.255435\n",
       "2                2                     AHGDHMASSR             4.157402\n",
       "3                3                      KPAAAAGAK             4.180807\n",
       "4                4                       KNHEEEVK             4.372270\n",
       "...            ...                            ...                  ...\n",
       "209443      209443        FLDALELSQSPMLLELMTEVLCR           129.377441\n",
       "209444      209444    DLVVLLFETALLSSGFSLEDPQTHSNR           129.437515\n",
       "209445      209445           VQGPELISLVELILAEAETR           129.572372\n",
       "209446      209446  TAFDEAIAELDTLSEESYKDSTLIMQLLR           129.604309\n",
       "209447      209447               DINLASFIEQVAVSMT           129.726273\n",
       "\n",
       "[209448 rows x 3 columns]"
      ]
     },
     "execution_count": 5,
     "metadata": {},
     "output_type": "execute_result"
    }
   ],
   "source": [
    "df.compute()"
   ]
  },
  {
   "cell_type": "code",
   "execution_count": null,
   "id": "cd983dbf-3ea5-4ad8-89c1-a080812b5f12",
   "metadata": {},
   "outputs": [],
   "source": []
  }
 ],
 "metadata": {
  "kernelspec": {
   "display_name": "Python 3 (ipykernel)",
   "language": "python",
   "name": "python3"
  },
  "language_info": {
   "codemirror_mode": {
    "name": "ipython",
    "version": 3
   },
   "file_extension": ".py",
   "mimetype": "text/x-python",
   "name": "python",
   "nbconvert_exporter": "python",
   "pygments_lexer": "ipython3",
   "version": "3.8.19"
  }
 },
 "nbformat": 4,
 "nbformat_minor": 5
}
