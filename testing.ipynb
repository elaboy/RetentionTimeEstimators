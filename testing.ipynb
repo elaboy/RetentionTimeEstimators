{
 "cells": [
  {
   "cell_type": "code",
   "execution_count": 1,
   "metadata": {},
   "outputs": [
    {
     "name": "stderr",
     "output_type": "stream",
     "text": [
      "[WARNING 04-19 10:54:10] ax.service.utils.with_db_settings_base: Ax currently requires a sqlalchemy version below 2.0. This will be addressed in a future release. Disabling SQL storage in Ax for now, if you would like to use SQL storage please install Ax with mysql extras via `pip install ax-platform[mysql]`.\n"
     ]
    }
   ],
   "source": [
    "import torch\n",
    "import torch.nn as nn\n",
    "import utils\n",
    "import BuildingBlocks\n",
    "vocab = utils.Tokenizer.readVocabulary(r\"F:\\RetentionTimeProject\\SimpleVocab.csv\")"
   ]
  },
  {
   "cell_type": "code",
   "execution_count": 2,
   "metadata": {},
   "outputs": [],
   "source": [
    "class ResNetBlockXavierNormal(nn.Module):\n",
    "    def __init__(self, in_channels, out_channels, kernel_size,   bias):\n",
    "        super().__init__()\n",
    "        self.in_channels = in_channels\n",
    "        self.out_channels = out_channels\n",
    "        self.kernel_size = kernel_size\n",
    "        \n",
    "        \n",
    "        self.bias = bias\n",
    "\n",
    "        self.embedding = nn.Embedding(len(vocab), 64, 0)\n",
    "        self.conv1 = nn.Conv1d(in_channels, out_channels,bias=bias, kernel_size=kernel_size, padding=1, stride=1, dilation=1)\n",
    "        self.conv2 = nn.Conv1d(out_channels, out_channels,bias=bias, kernel_size=kernel_size, padding=1, stride=1, dilation=1)\n",
    "        self.batchNorm1 = nn.BatchNorm1d(out_channels)\n",
    "        self.batchNorm2 = nn.BatchNorm1d(out_channels)\n",
    "        self.relu = nn.ReLU()\n",
    "\n",
    "        #init weights\n",
    "        nn.init.xavier_normal_(self.conv1.weight)\n",
    "        nn.init.xavier_normal_(self.conv2.weight)\n",
    "\n",
    "    def forward(self, x):\n",
    "        x = self.embedding(x)\n",
    "        residual = x\n",
    "        x = self.conv1(x)\n",
    "        # x = utils.padTensorBatchAfterCNN(x, self.in_channels)\n",
    "        x = self.batchNorm1(x)\n",
    "        x = self.relu(x)\n",
    "        x = self.conv2(x)\n",
    "        # x = utils.padTensorBatchAfterCNN(x, self.in_channels)\n",
    "        x = self.batchNorm2(x)\n",
    "        #x = utils.padTensorBatchAfterCNN(x, self.in_channels)\n",
    "        x += residual\n",
    "        x = self.relu(x)\n",
    "        return x\n",
    "    \n",
    "class OutputLayer(nn.Module):\n",
    "    def __init__(self, in_channels, out_channels):\n",
    "        super().__init__()\n",
    "        self.in_channels = in_channels\n",
    "        self.out_channels = out_channels\n",
    "        self.linear = nn.Linear(in_channels, 64*(self.in_channels//64))\n",
    "        self.relu = nn.ReLU()\n",
    "        self.linear2 = nn.Linear(out_channels, 1)\n",
    "        nn.init.xavier_normal_(self.linear.weight)\n",
    "    \n",
    "    def forward(self, x):\n",
    "        x = x.view(self.in_channels//64, 64*(self.in_channels//64))\n",
    "        x = self.linear(x)\n",
    "        x = self.relu(x)\n",
    "        x = self.linear2(x)\n",
    "        return x"
   ]
  },
  {
   "cell_type": "code",
   "execution_count": 33,
   "metadata": {},
   "outputs": [
    {
     "data": {
      "text/plain": [
       "torch.Size([32, 1])"
      ]
     },
     "execution_count": 33,
     "metadata": {},
     "output_type": "execute_result"
    }
   ],
   "source": [
    "class ResNetBlockXavierNormal(nn.Module):\n",
    "    def __init__(self, in_channels, out_channels, kernel_size=3, padding=1, stride=1, dilation=1):\n",
    "        super().__init__()\n",
    "        self.in_channels = in_channels\n",
    "        self.out_channels = out_channels\n",
    "        self.kernel_size = kernel_size\n",
    "\n",
    "        self.conv1 = nn.Conv1d(in_channels, out_channels, kernel_size=kernel_size, padding=padding, stride=stride, dilation=dilation)\n",
    "        self.conv2 = nn.Conv1d(out_channels, out_channels, kernel_size=kernel_size, padding=padding, stride=stride, dilation=dilation)\n",
    "        self.batchNorm1 = nn.BatchNorm1d(out_channels)\n",
    "        self.batchNorm2 = nn.BatchNorm1d(out_channels)\n",
    "        self.relu = nn.ReLU()\n",
    "\n",
    "        self.double()\n",
    "\n",
    "        #init weights\n",
    "        nn.init.xavier_normal_(self.conv1.weight)\n",
    "        nn.init.xavier_normal_(self.conv2.weight)\n",
    "\n",
    "    def forward(self, x):\n",
    "        residual = x\n",
    "        x = self.conv1(x)\n",
    "        # x = utils.padTensorBatchAfterCNN(x, self.in_channels)\n",
    "        x = self.batchNorm1(x)\n",
    "        x = self.relu(x)\n",
    "        x = self.conv2(x)\n",
    "        # x = utils.padTensorBatchAfterCNN(x, self.in_channels)\n",
    "        x = self.batchNorm2(x)\n",
    "        #x = utils.padTensorBatchAfterCNN(x, self.in_channels)\n",
    "        x += residual\n",
    "        x = self.relu(x)\n",
    "        return x\n",
    "    \n",
    "class ResNetiRT(nn.Module):\n",
    "    def __init__(self, numBlocks, batchSize):\n",
    "        super().__init__()\n",
    "        self.numBlocks = numBlocks\n",
    "        self.batchSize = batchSize\n",
    "        self.embedding = nn.Embedding(len(vocab), 64, 0)\n",
    "        self.blocks = nn.ModuleList()\n",
    "        # self.blocks.append(BuildingBlocks.DimSwap())\n",
    "        for i in range(numBlocks):\n",
    "            self.blocks.append(ResNetBlockXavierNormal(64, 64))\n",
    "        self.outputLayer = nn.Linear(64*64, 1)\n",
    "        self.double()\n",
    "    \n",
    "    def forward(self, x):\n",
    "        x = self.embedding(x)\n",
    "        for block in self.blocks:\n",
    "            x = block(x)\n",
    "        x = x.flatten(1)\n",
    "        x = self.outputLayer(x)\n",
    "        return x\n",
    "    \n",
    "model = ResNetiRT(10, 1)\n",
    "model(torch.zeros(32, 64, dtype=torch.int64)).shape"
   ]
  },
  {
   "cell_type": "code",
   "execution_count": 13,
   "metadata": {},
   "outputs": [
    {
     "name": "stdout",
     "output_type": "stream",
     "text": [
      "ResNetBlockXavierNormal(\n",
      "  (embedding): Embedding(223, 64, padding_idx=0)\n",
      "  (conv1): Conv1d(64, 64, kernel_size=(3,), stride=(1,), padding=(1,))\n",
      "  (conv2): Conv1d(64, 64, kernel_size=(3,), stride=(1,), padding=(1,))\n",
      "  (batchNorm1): BatchNorm1d(64, eps=1e-05, momentum=0.1, affine=True, track_running_stats=True)\n",
      "  (batchNorm2): BatchNorm1d(64, eps=1e-05, momentum=0.1, affine=True, track_running_stats=True)\n",
      "  (relu): ReLU()\n",
      ")\n",
      "Embedding(223, 64, padding_idx=0)\n",
      "Conv1d(64, 64, kernel_size=(3,), stride=(1,), padding=(1,))\n",
      "Conv1d(64, 64, kernel_size=(3,), stride=(1,), padding=(1,))\n",
      "BatchNorm1d(64, eps=1e-05, momentum=0.1, affine=True, track_running_stats=True)\n",
      "BatchNorm1d(64, eps=1e-05, momentum=0.1, affine=True, track_running_stats=True)\n",
      "ReLU()\n"
     ]
    }
   ],
   "source": [
    "for layer in model.modules():\n",
    "    print(layer)"
   ]
  },
  {
   "cell_type": "code",
   "execution_count": null,
   "metadata": {},
   "outputs": [],
   "source": []
  },
  {
   "cell_type": "code",
   "execution_count": null,
   "metadata": {},
   "outputs": [],
   "source": []
  }
 ],
 "metadata": {
  "kernelspec": {
   "display_name": "ModelExplorer",
   "language": "python",
   "name": "python3"
  },
  "language_info": {
   "codemirror_mode": {
    "name": "ipython",
    "version": 3
   },
   "file_extension": ".py",
   "mimetype": "text/x-python",
   "name": "python",
   "nbconvert_exporter": "python",
   "pygments_lexer": "ipython3",
   "version": "3.8.19"
  }
 },
 "nbformat": 4,
 "nbformat_minor": 2
}
