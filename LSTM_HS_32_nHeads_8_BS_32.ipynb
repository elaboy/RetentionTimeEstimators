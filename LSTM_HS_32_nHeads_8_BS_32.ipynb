{
 "cells": [
  {
   "cell_type": "code",
   "execution_count": 18,
   "metadata": {},
   "outputs": [],
   "source": [
    "import pandas \n",
    "import numpy \n",
    "import matplotlib.pyplot \n",
    "import torch\n",
    "from src import TunableAttentionRegression, tokenize\n",
    "from searchGrid import *"
   ]
  },
  {
   "cell_type": "code",
   "execution_count": 23,
   "metadata": {},
   "outputs": [
    {
     "name": "stderr",
     "output_type": "stream",
     "text": [
      "c:\\Users\\elabo\\Documents\\GitHub\\RetentionTimeEstimators\\src\\tokenize.py:23: FutureWarning: Series.__getitem__ treating keys as positions is deprecated. In a future version, integer keys will always be treated as labels (consistent with DataFrame behavior). To access a value by position, use `ser.iloc[pos]`\n",
      "  sequence = str(row[0])\n",
      "c:\\Users\\elabo\\Documents\\GitHub\\RetentionTimeEstimators\\src\\tokenize.py:31: FutureWarning: Series.__getitem__ treating keys as positions is deprecated. In a future version, integer keys will always be treated as labels (consistent with DataFrame behavior). To access a value by position, use `ser.iloc[pos]`\n",
      "  preTokens.append((sequence, row[2]))\n",
      "c:\\Users\\elabo\\Documents\\GitHub\\RetentionTimeEstimators\\src\\tokenize.py:29: FutureWarning: Series.__getitem__ treating keys as positions is deprecated. In a future version, integer keys will always be treated as labels (consistent with DataFrame behavior). To access a value by position, use `ser.iloc[pos]`\n",
      "  preTokens.append((removedColon, row[2]))\n"
     ]
    }
   ],
   "source": [
    "#training data/ validation data\n",
    "trainingDatasets, validationDatasets, testingDatasets = get_datasets_all()\n",
    "device = torch.device(\"cuda:0\" if torch.cuda.is_available() else \"cpu\")\n",
    "\n",
    "# Create the model\n",
    "model = TunableAttentionRegression(hidden_size=64, numberOfHeads=16).to(device)\n",
    "# Create the optimizer\n",
    "optimizer = torch.optim.AdamW(model.parameters(), lr=0.001)\n",
    "\n",
    "# Create the loss function\n",
    "criterion = torch.nn.L1Loss().to(device)\n",
    "\n",
    "# Create the training data loader\n",
    "trainingDataLoader = torch.utils.data.DataLoader(trainingDatasets,\n",
    "                                                batch_size=32,\n",
    "                                                shuffle=True, drop_last=True)\n",
    "\n",
    "validationDataLoader = torch.utils.data.DataLoader(validationDatasets,\n",
    "                                                batch_size=32,\n",
    "                                                shuffle=True, drop_last=True)\n",
    "\n",
    "testinDataLoader = torch.utils.data.DataLoader(testingDatasets,\n",
    "                                                batch_size=32,\n",
    "                                                shuffle=True, drop_last=True)"
   ]
  },
  {
   "cell_type": "code",
   "execution_count": 25,
   "metadata": {},
   "outputs": [
    {
     "name": "stdout",
     "output_type": "stream",
     "text": [
      "[1,  2000] loss: 0.051\n",
      "[1,  4000] loss: 0.025\n",
      "[1,  6000] loss: 0.016\n",
      "[1,  8000] loss: 0.012\n",
      "[1, 10000] loss: 0.009\n",
      "[1, 12000] loss: 0.008\n",
      "[1, 14000] loss: 0.006\n",
      "[2,  2000] loss: 0.044\n",
      "[2,  4000] loss: 0.022\n",
      "[2,  6000] loss: 0.014\n",
      "[2,  8000] loss: 0.011\n",
      "[2, 10000] loss: 0.009\n",
      "[2, 12000] loss: 0.007\n",
      "[2, 14000] loss: 0.006\n"
     ]
    }
   ],
   "source": [
    "# Train the model\n",
    "for epoch in range(11):  # loop over the dataset multiple times\n",
    "    running_loss = 0.0\n",
    "    epoch_steps = 0\n",
    "    for i, data in enumerate(trainingDataLoader):\n",
    "        # get the inputs; data is a list of [inputs, labels]\n",
    "        inputs, labels = data\n",
    "\n",
    "        # zero the parameter gradients\n",
    "        optimizer.zero_grad()\n",
    "\n",
    "        # forward + backward + optimize\n",
    "        outputs = model(inputs.to(device)).squeeze()[:, 0].to(device)\n",
    "        loss = criterion(outputs, labels.to(device))\n",
    "        loss.backward()\n",
    "        optimizer.step()\n",
    "\n",
    "        # print statistics\n",
    "        running_loss += loss.item()\n",
    "        epoch_steps += 1\n",
    "        if i % 2000 == 1999:  # print every 2000 mini-batches\n",
    "            print(\"[%d, %5d] loss: %.3f\" % (epoch + 1, i + 1,\n",
    "                                            running_loss / epoch_steps))\n",
    "            running_loss = 0.0\n",
    "\n",
    "    # Validation loss\n",
    "    val_loss = 0.0\n",
    "    val_steps = 0\n",
    "    total = 0\n",
    "    correct = 0\n",
    "    for i, data in enumerate(validationDataLoader):\n",
    "        with torch.no_grad():\n",
    "            inputs, labels = data\n",
    "\n",
    "            outputs = model(inputs.to(device)).squeeze()[:, 0].to(device)\n",
    "            total += labels.size(0)\n",
    "            correct += (outputs.to(device) == labels.to(device)).sum().item()\n",
    "\n",
    "            loss = criterion(outputs.to(device), labels.to(device))\n",
    "            val_loss += loss.cpu().numpy()\n",
    "            val_steps += 1\n",
    "    \n",
    "    #save the model from this epoch\n",
    "    torch.save(model.state_dict(), \"secondTry_model_hs_32_epoch_{}.pt\".format(epoch))"
   ]
  },
  {
   "cell_type": "code",
   "execution_count": 36,
   "metadata": {},
   "outputs": [],
   "source": [
    "#Test model and get accuracy\n",
    "test_loss = 0.0\n",
    "test_steps = 0\n",
    "total = 0\n",
    "correct = 0\n",
    "model.to('cpu')\n",
    "model.eval()\n",
    "preds = []\n",
    "\n",
    "# Test model and calculate accuracy\n",
    "for i, data in enumerate(testinDataLoader):\n",
    "    with torch.no_grad():\n",
    "        inputs, labels = data\n",
    "\n",
    "        outputs = model(inputs).squeeze()[:, 0]\n",
    "        predicted = outputs\n",
    "        preds.append((labels, predicted))"
   ]
  },
  {
   "cell_type": "code",
   "execution_count": 39,
   "metadata": {},
   "outputs": [],
   "source": [
    "allPredictions = []\n",
    "allLabels = []\n",
    "for label, pred in preds:\n",
    "    allPredictions.append(pred)\n",
    "    allLabels.append(label)"
   ]
  },
  {
   "cell_type": "code",
   "execution_count": 46,
   "metadata": {},
   "outputs": [],
   "source": [
    "flatPreds = torch.stack(allPredictions).flatten().tolist()\n",
    "flatLabels = torch.stack(allLabels).flatten().tolist()"
   ]
  },
  {
   "cell_type": "code",
   "execution_count": 48,
   "metadata": {},
   "outputs": [],
   "source": [
    "import matplotlib.pyplot "
   ]
  },
  {
   "cell_type": "code",
   "execution_count": 49,
   "metadata": {},
   "outputs": [
    {
     "data": {
      "text/plain": [
       "<matplotlib.collections.PathCollection at 0x2598de9eb50>"
      ]
     },
     "execution_count": 49,
     "metadata": {},
     "output_type": "execute_result"
    },
    {
     "data": {
      "image/png": "[encoded data removed]",
      "text/plain": [
       "<Figure size 640x480 with 1 Axes>"
      ]
     },
     "metadata": {},
     "output_type": "display_data"
    }
   ],
   "source": [
    "matplotlib.pyplot.scatter(flatLabels, flatPreds)\n",
    "matplotlib.pyplot.xlabel(\"True\")\n",
    "matplotlib.pyplot.ylabel(\"Predicted\")\n",
    "matplotlib.pyplot.show()"
   ]
  },
  {
   "cell_type": "code",
   "execution_count": null,
   "metadata": {},
   "outputs": [],
   "source": []
  }
 ],
 "metadata": {
  "kernelspec": {
   "display_name": "Py39",
   "language": "python",
   "name": "python3"
  },
  "language_info": {
   "codemirror_mode": {
    "name": "ipython",
    "version": 3
   },
   "file_extension": ".py",
   "mimetype": "text/x-python",
   "name": "python",
   "nbconvert_exporter": "python",
   "pygments_lexer": "ipython3",
   "version": "3.9.18"
  }
 },
 "nbformat": 4,
 "nbformat_minor": 2
}
